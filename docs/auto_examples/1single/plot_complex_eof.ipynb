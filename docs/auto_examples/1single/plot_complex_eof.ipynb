{
  "cells": [
    {
      "cell_type": "markdown",
      "metadata": {},
      "source": [
        "\n# Complex/Hilbert EOF analysis\n\nWe demonstrate how to execute a Complex EOF (or Hilbert EOF) analysis [1]_ [2]_ [3]_. \nThis method extends traditional EOF analysis into the complex domain, allowing \nthe EOF components to have real and imaginary parts. This capability can reveal\noscillatory patterns in datasets, which are common in Earth observations. \nFor example, beyond typical examples like seasonal cycles, you can think of\ninternal waves in the ocean, or the Quasi-Biennial Oscillation in the atmosphere.\n\nUsing monthly sea surface temperature data from 1970 to 2021 as an example, we \nhighlight the method's key features and address edge effects as a common challenge.\n\n.. [1] Rasmusson, E. M., Arkin, P. A., Chen, W.-Y. & Jalickee, J. B. Biennial variations in surface temperature over the United States as revealed by singular decomposition. Monthly Weather Review 109, 587\u2013598 (1981).\n.. [2] Barnett, T. P. Interaction of the Monsoon and Pacific Trade Wind System at Interannual Time Scales Part I: The Equatorial Zone. Monthly Weather Review 111, 756\u2013773 (1983).\n.. [3] Horel, J. Complex Principal Component Analysis: Theory and Examples. J. Climate Appl. Meteor. 23, 1660\u20131673 (1984).\n\nLet's start by importing the necessary packages and loading the data:\n"
      ]
    },
    {
      "cell_type": "code",
      "execution_count": null,
      "metadata": {
        "collapsed": false
      },
      "outputs": [],
      "source": [
        "import xeofs as xe\nimport xarray as xr\n\nxr.set_options(display_expand_attrs=False)\n\nsst = xr.tutorial.open_dataset(\"ersstv5\").sst\nsst"
      ]
    },
    {
      "cell_type": "markdown",
      "metadata": {},
      "source": [
        "We fit the Complex EOF model directly to the raw data, retaining the seasonal\ncycle for study. The model initialization specifies the desired number of\nmodes. The ``use_coslat`` parameter is set to ``True`` to adjust for grid\nconvergence at the poles. While the ``ComplexEOF`` class offers padding options\nto mitigate potential edge effects, we'll begin with no padding.\n\n"
      ]
    },
    {
      "cell_type": "code",
      "execution_count": null,
      "metadata": {
        "collapsed": false
      },
      "outputs": [],
      "source": [
        "kwargs = dict(n_modes=4, use_coslat=True, random_state=7)\nmodel = xe.models.ComplexEOF(padding=\"none\", **kwargs)"
      ]
    },
    {
      "cell_type": "markdown",
      "metadata": {},
      "source": [
        "Now, we fit the model to the data and extract the explained variance.\n\n"
      ]
    },
    {
      "cell_type": "code",
      "execution_count": null,
      "metadata": {
        "collapsed": false
      },
      "outputs": [],
      "source": [
        "model.fit(sst, dim=\"time\")\nexpvar = model.explained_variance()\nexpvar_ratio = model.explained_variance_ratio()"
      ]
    },
    {
      "cell_type": "markdown",
      "metadata": {},
      "source": [
        "Let's have a look at the explained variance of the first five modes:\n\n"
      ]
    },
    {
      "cell_type": "code",
      "execution_count": null,
      "metadata": {
        "collapsed": false
      },
      "outputs": [],
      "source": [
        "expvar.round(0)"
      ]
    },
    {
      "cell_type": "markdown",
      "metadata": {},
      "source": [
        "Clearly, the first mode completely dominates and already explains a substantial amount of variance.\nIf we look at the fraction of explained variance, we see that the first mode explains about 88.8 %.\n\n"
      ]
    },
    {
      "cell_type": "code",
      "execution_count": null,
      "metadata": {
        "collapsed": false
      },
      "outputs": [],
      "source": [
        "(expvar_ratio * 100).round(1)"
      ]
    },
    {
      "cell_type": "markdown",
      "metadata": {},
      "source": [
        "In comparison to standard EOF analysis (check the corresponding example,\nS-mode), the first complex mode seems to integrate the first two standard\nmodes in terms of explained variance.\nThis makes sense as the two modes in standard EOF are both showing parts of\nan annual cycle (which are in quadrature) and thus the complex mode combines both of them.\nLet's confirm our hypothesis by looking at the real part the complex-valued scores:\n\n"
      ]
    },
    {
      "cell_type": "code",
      "execution_count": null,
      "metadata": {
        "collapsed": false
      },
      "outputs": [],
      "source": [
        "scores = model.scores()\nscores.real.plot.line(x=\"time\", col=\"mode\", lw=1, ylim=(-0.1, 0.1))"
      ]
    },
    {
      "cell_type": "markdown",
      "metadata": {},
      "source": [
        "And indeed the annual cycle is completed incorporated into the first mode,\nwhile the second mode shows a semi-annual cycle (mode 3 in standard EOF).\n\nHowever, mode three and four look unusual. While showing some similarity to\nENSO (e.g. in mode 3 peaks in 1982, 1998 and 2016), they exhibit a \"running away\"\nbehaviour towards the boundaries of the time series.\nThis a common issue in complex EOF analysis which is based on the Hilbert transform (a convolution)\nthat suffers from the absence of information at the time series boundaries. One way to mitigate this\nis to artificially extend the time series also known as *padding*. In ``xeofs``, you can enable\nsuch a padding by setting the ``padding`` parameter to ``\"exp\"`` which will extent the boundaries by an exponential\ndecaying function. The ``decay_factor`` parameter controls the decay rate of the exponential function measured in\nmultiples of the time series length. Let's see how the decay parameter impacts the results:\n\n"
      ]
    },
    {
      "cell_type": "code",
      "execution_count": null,
      "metadata": {
        "collapsed": false
      },
      "outputs": [],
      "source": [
        "model_ext = xe.models.ComplexEOF(padding=\"exp\", decay_factor=0.01, **kwargs)\nmodel_ext.fit(sst, dim=\"time\")\nscores_ext = model_ext.scores().sel(mode=slice(1, 4))\n\nscores_ext.real.plot.line(x=\"time\", col=\"mode\", lw=1, ylim=(-0.1, 0.1))"
      ]
    },
    {
      "cell_type": "markdown",
      "metadata": {},
      "source": [
        "And indeed, padding the time series effectively reduced the artifacts at the boundaries.\nLastly, we examine the complex component amplitudes and phases.\n\n"
      ]
    },
    {
      "cell_type": "code",
      "execution_count": null,
      "metadata": {
        "collapsed": false
      },
      "outputs": [],
      "source": [
        "comp_amps = model.components_amplitude()\ncomp_amps.plot(col=\"mode\", vmin=0, vmax=0.025)"
      ]
    },
    {
      "cell_type": "markdown",
      "metadata": {},
      "source": [
        "The component phases of the first mode clearly show the seasonal cycle as\nthe northern and southern hemisphere are phase shifted by 180 degrees (white and black).\nNote the blueish regions in the central East Pacific and Indian Ocean which indicate\na phase shift of 90 degrees compared to the main annual cycle. This is in agreement\nwith mode 3 of the standard EOF analysis.\n\n"
      ]
    },
    {
      "cell_type": "code",
      "execution_count": null,
      "metadata": {
        "collapsed": false
      },
      "outputs": [],
      "source": [
        "comp_phases = model.components_phase()\ncomp_phases.plot(col=\"mode\", cmap=\"twilight\")"
      ]
    }
  ],
  "metadata": {
    "kernelspec": {
      "display_name": "Python 3",
      "language": "python",
      "name": "python3"
    },
    "language_info": {
      "codemirror_mode": {
        "name": "ipython",
        "version": 3
      },
      "file_extension": ".py",
      "mimetype": "text/x-python",
      "name": "python",
      "nbconvert_exporter": "python",
      "pygments_lexer": "ipython3",
      "version": "3.11.4"
    }
  },
  "nbformat": 4,
  "nbformat_minor": 0
}