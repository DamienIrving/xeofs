{
  "cells": [
    {
      "cell_type": "markdown",
      "metadata": {},
      "source": [
        "\n# Rotated EOF analysis\n\nEOF (Empirical Orthogonal Function) analysis is commonly used in climate science, interpreting \nthe derived eigenvectors (EOFs) as climatic variability patterns. However, due to \nthe inherent orthogonality constraint in EOF analysis, the interpretation of all \nbut the first EOF can be problematic. Rotated EOF analysis, using optimization criteria \nlike Varimax and Promax, offers a solution by releasing this orthogonality constraint, \nthus enabling a more accurate interpretation of variability patterns.\n\nBoth Varimax (orthogonal) and Promax (oblique) rotations result in \"sparse\" solutions, \nmeaning the EOFs become more interpretable by limiting the number of variables that \ncontribute to each EOF. This rotation effectively serves as a regularization method \nfor the EOF solution, with the strength of regularization determined by the power parameter; \nthe higher the value, the sparser the EOFs.\n\nPromax rotation, with a small regularization value (i.e., power=1), reverts to Varimax \nrotation. In this context, we compare the first three modes of EOF analysis: (1) \nwithout regularization, (2) with Varimax rotation, and (3) with Promax rotation.\n\nWe'll start by loading the necessary packages and data:\n"
      ]
    },
    {
      "cell_type": "code",
      "execution_count": null,
      "metadata": {
        "collapsed": false
      },
      "outputs": [],
      "source": [
        "import xarray as xr\nimport matplotlib.pyplot as plt\nimport seaborn as sns\nfrom matplotlib.gridspec import GridSpec\nfrom cartopy.crs import Robinson, PlateCarree\n\nfrom xeofs.models import EOF, EOFRotator\n\n\nsns.set_context(\"paper\")\n\nsst = xr.tutorial.open_dataset(\"ersstv5\")[\"sst\"]"
      ]
    },
    {
      "cell_type": "markdown",
      "metadata": {},
      "source": [
        "Perform the actual analysis\n\n"
      ]
    },
    {
      "cell_type": "code",
      "execution_count": null,
      "metadata": {
        "collapsed": false
      },
      "outputs": [],
      "source": [
        "components = []\nscores = []\n# (1) Standard EOF without regularization\nmodel = EOF(n_modes=100, standardize=True, use_coslat=True)\nmodel.fit(sst, dim=\"time\")\ncomponents.append(model.components())\nscores.append(model.scores())\n# (2) Varimax-rotated EOF analysis\nrot_var = EOFRotator(n_modes=50, power=1)\nrot_var.fit(model)\ncomponents.append(rot_var.components())\nscores.append(rot_var.scores())\n# (3) Promax-rotated EOF analysis\nrot_pro = EOFRotator(n_modes=50, power=4)\nrot_pro.fit(model)\ncomponents.append(rot_pro.components())\nscores.append(rot_pro.scores())"
      ]
    },
    {
      "cell_type": "markdown",
      "metadata": {},
      "source": [
        "Create figure showing the first 6 modes for all 3 cases. While the first mode\nis very similar in all three cases the subsequent modes of the standard\nsolution exhibit dipole and tripole-like patterns. Under Varimax and Promax\nrotation, these structures completely disappear suggesting that these patterns\nwere mere artifacts due to the orthogonality.\n\n"
      ]
    },
    {
      "cell_type": "code",
      "execution_count": null,
      "metadata": {
        "collapsed": false
      },
      "outputs": [],
      "source": [
        "proj = Robinson(central_longitude=180)\nkwargs = {\n    \"cmap\": \"RdBu\",\n    \"transform\": PlateCarree(),\n    \"vmin\": -0.03,\n    \"vmax\": +0.03,\n    \"add_colorbar\": False,\n}\n\nfig = plt.figure(figsize=(10, 5))\ngs = GridSpec(3, 4)\nax_std = [fig.add_subplot(gs[0, i], projection=proj) for i in range(4)]\nax_var = [fig.add_subplot(gs[1, i], projection=proj) for i in range(4)]\nax_pro = [fig.add_subplot(gs[2, i], projection=proj) for i in range(4)]\n\nfor i, (a0, a1, a2) in enumerate(zip(ax_std, ax_var, ax_pro)):\n    mode = i + 1\n    a0.coastlines(color=\".5\")\n    a1.coastlines(color=\".5\")\n    a2.coastlines(color=\".5\")\n    components[0].sel(mode=mode).plot(ax=a0, **kwargs)\n    components[1].sel(mode=mode).plot(ax=a1, **kwargs)\n    components[2].sel(mode=mode).plot(ax=a2, **kwargs)\n\ntitle_kwargs = dict(rotation=90, va=\"center\", weight=\"bold\")\nax_std[0].text(-0.1, 0.5, \"Standard\", transform=ax_std[0].transAxes, **title_kwargs)\nax_var[0].text(-0.1, 0.5, \"Varimax\", transform=ax_var[0].transAxes, **title_kwargs)\nax_pro[0].text(-0.1, 0.5, \"Promax\", transform=ax_pro[0].transAxes, **title_kwargs)\n\nplt.tight_layout()\nplt.savefig(\"rotated_eof.jpg\", dpi=200)"
      ]
    }
  ],
  "metadata": {
    "kernelspec": {
      "display_name": "Python 3",
      "language": "python",
      "name": "python3"
    },
    "language_info": {
      "codemirror_mode": {
        "name": "ipython",
        "version": 3
      },
      "file_extension": ".py",
      "mimetype": "text/x-python",
      "name": "python",
      "nbconvert_exporter": "python",
      "pygments_lexer": "ipython3",
      "version": "3.11.4"
    }
  },
  "nbformat": 4,
  "nbformat_minor": 0
}