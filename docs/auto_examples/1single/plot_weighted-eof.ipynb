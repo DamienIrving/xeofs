{
  "cells": [
    {
      "cell_type": "markdown",
      "metadata": {},
      "source": [
        "\n# Weighted EOF analysis\n\nWeighted EOF analysis (in S-mode) maximises the temporal variance\nconsidering each gridpoint with a different weight. We compare the\nresults for an EOF analysis based on (1) the covariance matrix, (2) area\nweighting based on latitude (coslat weighting), (3) the correlation matrix\nand finally (4) correlation matrix + coslat weighting.\n\nLoad packages and data:\n"
      ]
    },
    {
      "cell_type": "code",
      "execution_count": null,
      "metadata": {
        "collapsed": false
      },
      "outputs": [],
      "source": [
        "import xarray as xr\nimport matplotlib.pyplot as plt\nimport seaborn as sns\nfrom matplotlib.gridspec import GridSpec\nfrom cartopy.crs import Orthographic, PlateCarree\n\nfrom xeofs.models import EOF\n\nsns.set_context(\"paper\")\n\nt2m = xr.tutorial.load_dataset(\"air_temperature\")[\"air\"]"
      ]
    },
    {
      "cell_type": "markdown",
      "metadata": {},
      "source": [
        "Perform the actual analysis\n\n"
      ]
    },
    {
      "cell_type": "code",
      "execution_count": null,
      "metadata": {
        "collapsed": false
      },
      "outputs": [],
      "source": [
        "components = []\nscores = []\n# (1) Based on covariance matrix\nmodel_cov = EOF(n_modes=5, standardize=False, use_coslat=False)\nmodel_cov.fit(t2m, \"time\")\ncomponents.append(model_cov.components())\nscores.append(model_cov.scores())\n# (2) Based on coslat weighted covariance matrix\nmodel_lat = EOF(n_modes=5, standardize=False, use_coslat=True)\nmodel_lat.fit(t2m, \"time\")\ncomponents.append(model_lat.components())\nscores.append(model_lat.scores())\n# (3) Based on correlation matrix\nmodel_cor = EOF(n_modes=5, standardize=True, use_coslat=False)\nmodel_cor.fit(t2m, \"time\")\ncomponents.append(model_cor.components())\nscores.append(model_cor.scores())\n# (4) Based on coslat weighted correlation matrix\nmodel_cor_lat = EOF(n_modes=5, standardize=True, use_coslat=True)\nmodel_cor_lat.fit(t2m, \"time\")\ncomponents.append(model_cor_lat.components())\nscores.append(model_cor_lat.scores())"
      ]
    },
    {
      "cell_type": "markdown",
      "metadata": {},
      "source": [
        "Create figure showing the first mode for all 4 cases\n\n"
      ]
    },
    {
      "cell_type": "code",
      "execution_count": null,
      "metadata": {
        "collapsed": false
      },
      "outputs": [],
      "source": [
        "proj = Orthographic(central_latitude=30, central_longitude=-80)\nkwargs = {\n    \"cmap\": \"mako\",\n    \"transform\": PlateCarree(),\n    \"vmin\": 0,\n}\ntitles = [\n    \"(1) Covariances\",\n    \"(2) Covariances + coslat\",\n    \"(3) Correlation\",\n    \"(4) Correlation + coslat\",\n]\nfig = plt.figure(figsize=(10, 12))\ngs = GridSpec(4, 2)\nax_pcs = [fig.add_subplot(gs[i, 0]) for i in range(4)]\nax_eofs = [fig.add_subplot(gs[i, 1], projection=proj) for i in range(4)]\n\nfor i, (a1, a2) in enumerate(zip(ax_eofs, ax_pcs)):\n    a1.coastlines(color=\".5\")\n    components[i].sel(mode=1).plot(ax=a1, **kwargs)\n    scores[i].sel(mode=1).plot(ax=a2, color=\"darkred\")\n    a2.set_xlabel(\"\")\n    a1.set_title(\"\", loc=\"center\")\n    a2.set_title(\"\", loc=\"center\")\n    a2.set_title(titles[i], loc=\"left\", weight=\"bold\")\n    if i < 3:\n        a2.set_xticks([])\n        sns.despine(ax=a2, trim=True, bottom=True)\n    else:\n        sns.despine(ax=a2, trim=True, bottom=False)\n\nplt.tight_layout()\nplt.savefig(\"weighted_eof.jpg\", dpi=200)"
      ]
    }
  ],
  "metadata": {
    "kernelspec": {
      "display_name": "Python 3",
      "language": "python",
      "name": "python3"
    },
    "language_info": {
      "codemirror_mode": {
        "name": "ipython",
        "version": 3
      },
      "file_extension": ".py",
      "mimetype": "text/x-python",
      "name": "python",
      "nbconvert_exporter": "python",
      "pygments_lexer": "ipython3",
      "version": "3.11.4"
    }
  },
  "nbformat": 4,
  "nbformat_minor": 0
}