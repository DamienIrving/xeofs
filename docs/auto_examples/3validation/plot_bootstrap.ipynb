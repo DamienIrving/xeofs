{
  "cells": [
    {
      "cell_type": "code",
      "execution_count": null,
      "metadata": {
        "collapsed": false
      },
      "outputs": [],
      "source": [
        "%matplotlib inline"
      ]
    },
    {
      "cell_type": "markdown",
      "metadata": {},
      "source": [
        "\n# Significance testing of EOF analysis via bootstrap\n\nTest the significance of individual modes and obtain confidence intervals\nfor both EOFs and PCs.\n"
      ]
    },
    {
      "cell_type": "code",
      "execution_count": null,
      "metadata": {
        "collapsed": false
      },
      "outputs": [],
      "source": [
        "# Load packages and data:\nimport numpy as np\nimport xarray as xr\nimport matplotlib.pyplot as plt\nfrom matplotlib.gridspec import GridSpec\nfrom cartopy.crs import Orthographic, PlateCarree\n\nfrom xeofs.models import EOF\nfrom xeofs.validation import EOFBootstrapper"
      ]
    },
    {
      "cell_type": "code",
      "execution_count": null,
      "metadata": {
        "collapsed": false
      },
      "outputs": [],
      "source": [
        "t2m = xr.tutorial.load_dataset('air_temperature')['air']"
      ]
    },
    {
      "cell_type": "markdown",
      "metadata": {},
      "source": [
        "Perform EOF analysis\n\n"
      ]
    },
    {
      "cell_type": "code",
      "execution_count": null,
      "metadata": {
        "collapsed": false
      },
      "outputs": [],
      "source": [
        "model = EOF(n_modes=5, standardize=False, dim='time')\nmodel.fit(t2m, dim='time')\nexpvar = model.explained_variance_ratio()\ncomponents = model.components()\nscores = model.scores()"
      ]
    },
    {
      "cell_type": "markdown",
      "metadata": {},
      "source": [
        "Perform bootstrapping of the model to identy the number of significant modes.\nWe perform 50 bootstraps.\nNote - if computationallly feasible - you typically want to choose higher\nnumbers of bootstraps e.g. 1000.\n\n"
      ]
    },
    {
      "cell_type": "code",
      "execution_count": null,
      "metadata": {
        "collapsed": false
      },
      "outputs": [],
      "source": [
        "n_boot = 50\n\nbs = EOFBootstrapper(n_bootstraps=n_boot)\nbs.fit(model)\nbs_expvar = bs.explained_variance()\nci_expvar = bs_expvar.quantile([0.025, 0.975], 'n')  # 95% confidence intervals\n\nq025 = ci_expvar.sel(quantile=0.025)\nq975 = ci_expvar.sel(quantile=0.975)\n\nis_significant = q025 - q975.shift({'mode': -1}) > 0\nn_significant_modes = is_significant.where(is_significant==True).cumsum(skipna=False).max().fillna(0)\nprint('{:} modes are significant at alpha=0.05'.format(n_significant_modes.values))"
      ]
    },
    {
      "cell_type": "markdown",
      "metadata": {},
      "source": [
        "The bootstrapping procedure identifies 3 significant modes. We can also\ncompute the 95 % confidence intervals of the EOFs/PCs and mask out\ninsignificant elements of the obtained EOFs.\n\n"
      ]
    },
    {
      "cell_type": "code",
      "execution_count": null,
      "metadata": {
        "collapsed": false
      },
      "outputs": [],
      "source": [
        "ci_components = bs.components().quantile([0.025, 0.975], 'n')\nci_scores = bs.scores().quantile([0.025, 0.975], 'n')\n\nis_sig_comps = (np.sign(ci_components).prod('quantile') > 0)"
      ]
    },
    {
      "cell_type": "markdown",
      "metadata": {},
      "source": [
        "Summarize the results in a figure.\n\n"
      ]
    },
    {
      "cell_type": "code",
      "execution_count": null,
      "metadata": {
        "collapsed": false
      },
      "outputs": [],
      "source": [
        "lons, lats = np.meshgrid(is_sig_comps.lon.values, is_sig_comps.lat.values)\nproj = Orthographic(central_latitude=30, central_longitude=-80)\nkwargs = {\n    'cmap' : 'RdBu', 'vmin' : -.05, 'vmax': .05, 'transform': PlateCarree()\n}\n\nfig = plt.figure(figsize=(10, 16))\ngs = GridSpec(5, 2)\nax1 = [fig.add_subplot(gs[i, 0], projection=proj) for i in range(5)]\nax2 = [fig.add_subplot(gs[i, 1]) for i in range(5)]\n\nfor i, (a1, a2) in enumerate(zip(ax1, ax2)):\n    a1.coastlines(color='.5')\n    components.isel(mode=i).plot(ax=a1, **kwargs)\n    a1.scatter(\n        lons, lats, is_sig_comps.isel(mode=i).values * .5,\n        color='k', alpha=.5, transform=PlateCarree()\n    )\n    ci_scores.isel(mode=i, quantile=0).plot(ax=a2, color='.3', lw='.5', label='2.5%')\n    ci_scores.isel(mode=i, quantile=1).plot(ax=a2, color='.3', lw='.5', label='97.5%')\n    scores.isel(mode=i).plot(ax=a2, lw='.5', alpha=.5, label='PC')\n    a2.legend(loc=2)\n\nplt.tight_layout()\nplt.savefig('bootstrap.jpg')"
      ]
    }
  ],
  "metadata": {
    "kernelspec": {
      "display_name": "Python 3",
      "language": "python",
      "name": "python3"
    },
    "language_info": {
      "codemirror_mode": {
        "name": "ipython",
        "version": 3
      },
      "file_extension": ".py",
      "mimetype": "text/x-python",
      "name": "python",
      "nbconvert_exporter": "python",
      "pygments_lexer": "ipython3",
      "version": "3.11.4"
    }
  },
  "nbformat": 4,
  "nbformat_minor": 0
}