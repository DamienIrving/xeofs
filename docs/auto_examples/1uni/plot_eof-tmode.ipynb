{
  "cells": [
    {
      "cell_type": "code",
      "execution_count": null,
      "metadata": {
        "collapsed": false
      },
      "outputs": [],
      "source": [
        "%matplotlib inline"
      ]
    },
    {
      "cell_type": "markdown",
      "metadata": {},
      "source": [
        "\n# EOF analysis (T-mode)\n\nEOF analysis in T-mode maximises the spatial variance.\n\nLoad packages and data:\n"
      ]
    },
    {
      "cell_type": "code",
      "execution_count": null,
      "metadata": {
        "collapsed": false
      },
      "outputs": [],
      "source": [
        "import xarray as xr\nimport matplotlib.pyplot as plt\nfrom matplotlib.gridspec import GridSpec\nfrom cartopy.crs import Orthographic, PlateCarree\n\nfrom xeofs.xarray import EOF\n\nt2m = xr.tutorial.load_dataset('air_temperature')['air']"
      ]
    },
    {
      "cell_type": "markdown",
      "metadata": {},
      "source": [
        "Perform the actual analysis\n\n"
      ]
    },
    {
      "cell_type": "code",
      "execution_count": null,
      "metadata": {
        "collapsed": false
      },
      "outputs": [],
      "source": [
        "model = EOF(t2m, n_modes=5, norm=False, dim=['lat', 'lon'])\nmodel.solve()\nexpvar = model.explained_variance_ratio()\neofs = model.eofs()\npcs = model.pcs()"
      ]
    },
    {
      "cell_type": "markdown",
      "metadata": {},
      "source": [
        "Create figure showing the first two modes\n\n"
      ]
    },
    {
      "cell_type": "code",
      "execution_count": null,
      "metadata": {
        "collapsed": false
      },
      "outputs": [],
      "source": [
        "proj = Orthographic(central_latitude=30, central_longitude=-80)\nkwargs = {\n    'cmap' : 'RdBu', 'transform': PlateCarree()\n}\n\nfig = plt.figure(figsize=(10, 10))\ngs = GridSpec(3, 4)\nax1 = fig.add_subplot(gs[0, :])\nax2 = fig.add_subplot(gs[1, :2])\nax3 = fig.add_subplot(gs[1, 2:], projection=proj)\nax4 = fig.add_subplot(gs[2, :2])\nax5 = fig.add_subplot(gs[2, 2:], projection=proj)\n\nax3.coastlines(color='.5')\nax5.coastlines(color='.5')\n\nexpvar.plot(ax=ax1, marker='.')\neofs.sel(mode=1).plot(ax=ax2)\npcs.sel(mode=1).plot(ax=ax3, **kwargs)\neofs.sel(mode=2).plot(ax=ax4)\npcs.sel(mode=2).plot(ax=ax5, **kwargs)\nplt.tight_layout()\nplt.savefig('eof-tmode.jpg')"
      ]
    }
  ],
  "metadata": {
    "kernelspec": {
      "display_name": "Python 3",
      "language": "python",
      "name": "python3"
    },
    "language_info": {
      "codemirror_mode": {
        "name": "ipython",
        "version": 3
      },
      "file_extension": ".py",
      "mimetype": "text/x-python",
      "name": "python",
      "nbconvert_exporter": "python",
      "pygments_lexer": "ipython3",
      "version": "3.8.12"
    }
  },
  "nbformat": 4,
  "nbformat_minor": 0
}