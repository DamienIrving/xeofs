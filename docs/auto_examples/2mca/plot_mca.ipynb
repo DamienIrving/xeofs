{
  "cells": [
    {
      "cell_type": "markdown",
      "metadata": {},
      "source": [
        "\n# Maximum Covariance Analysis\n\nMaximum Covariance Analysis (MCA) between two data sets.\n"
      ]
    },
    {
      "cell_type": "code",
      "execution_count": null,
      "metadata": {
        "collapsed": false
      },
      "outputs": [],
      "source": [
        "# Load packages and data:\nimport numpy as np\nimport xarray as xr\nimport matplotlib.pyplot as plt\nfrom matplotlib.gridspec import GridSpec\nfrom cartopy.crs import Orthographic, PlateCarree\nfrom cartopy.feature import LAND\n\nfrom xeofs.models import MCA"
      ]
    },
    {
      "cell_type": "markdown",
      "metadata": {},
      "source": [
        "Create 2 different DataArrays\n\n"
      ]
    },
    {
      "cell_type": "code",
      "execution_count": null,
      "metadata": {
        "collapsed": false
      },
      "outputs": [],
      "source": [
        "t2m = xr.tutorial.load_dataset('air_temperature')['air']\nda1 = t2m.isel(lon=slice(0, 26))\nda2 = t2m.isel(lon=slice(27, None))"
      ]
    },
    {
      "cell_type": "markdown",
      "metadata": {},
      "source": [
        "Perform MCA\n\n"
      ]
    },
    {
      "cell_type": "code",
      "execution_count": null,
      "metadata": {
        "collapsed": false
      },
      "outputs": [],
      "source": [
        "mca = MCA(n_modes=20, standardize=False, use_coslat=True)\nmca.fit(da1, da2, dim='time')"
      ]
    },
    {
      "cell_type": "markdown",
      "metadata": {},
      "source": [
        "Get singular vectors, projections (PCs), homogeneous and heterogeneous\npatterns:\n\n"
      ]
    },
    {
      "cell_type": "code",
      "execution_count": null,
      "metadata": {
        "collapsed": false
      },
      "outputs": [],
      "source": [
        "singular_vectors = mca.components()\nscores = mca.scores()\nhom_pats, pvals_hom = mca.homogeneous_patterns()\nhet_pats, pvals_het = mca.heterogeneous_patterns()"
      ]
    },
    {
      "cell_type": "markdown",
      "metadata": {},
      "source": [
        "When two fields are expected, the output of the above methods is a list of\nlength 2, with the first and second entry containing the relevant object for\n``X`` and ``Y``. For example, the p-values obtained from the two-sided t-test\nfor the homogeneous patterns of ``X`` are:\n\n"
      ]
    },
    {
      "cell_type": "code",
      "execution_count": null,
      "metadata": {
        "collapsed": false
      },
      "outputs": [],
      "source": [
        "pvals_hom[0]"
      ]
    },
    {
      "cell_type": "markdown",
      "metadata": {},
      "source": [
        "Create a mask to identifiy where p-values are below 0.05\n\n"
      ]
    },
    {
      "cell_type": "code",
      "execution_count": null,
      "metadata": {
        "collapsed": false
      },
      "outputs": [],
      "source": [
        "hom_mask = [values < 0.05 for values in pvals_hom]\nhet_mask = [values < 0.05 for values in pvals_het]"
      ]
    },
    {
      "cell_type": "markdown",
      "metadata": {},
      "source": [
        "Plot some relevant quantities of mode 2.\n\n"
      ]
    },
    {
      "cell_type": "code",
      "execution_count": null,
      "metadata": {
        "collapsed": false
      },
      "outputs": [],
      "source": [
        "lonlats = [\n    np.meshgrid(pvals_hom[0].lon.values, pvals_hom[0].lat.values),\n    np.meshgrid(pvals_hom[1].lon.values, pvals_hom[1].lat.values)\n]\nproj = [\n    Orthographic(central_latitude=30, central_longitude=-120),\n    Orthographic(central_latitude=30, central_longitude=-60)\n]\nkwargs1 = {\n    'cmap' : 'BrBG', 'vmin' : -.05, 'vmax': .05, 'transform': PlateCarree()\n}\nkwargs2 = {\n    'cmap' : 'RdBu', 'vmin' : -1, 'vmax': 1, 'transform': PlateCarree()\n}\n\nmode = 2\n\nfig = plt.figure(figsize=(7, 14))\ngs = GridSpec(5, 2)\nax1 = [fig.add_subplot(gs[0, i], projection=proj[i]) for i in range(2)]\nax2 = [fig.add_subplot(gs[1, i], projection=proj[i]) for i in range(2)]\nax3 = [fig.add_subplot(gs[2, i], projection=proj[i]) for i in range(2)]\nax4 = [fig.add_subplot(gs[3, i]) for i in range(2)]\n\nfor i, a in enumerate(ax1):\n    singular_vectors[i].sel(mode=mode).plot(ax=a, **kwargs1)\n\nfor i, a in enumerate(ax2):\n    hom_pats[i].sel(mode=mode).plot(ax=a, **kwargs2)\n    a.scatter(\n        lonlats[i][0], lonlats[i][1], hom_mask[i].sel(mode=mode).values * .5,\n        color='k', alpha=.5, transform=PlateCarree()\n    )\nfor i, a in enumerate(ax3):\n    het_pats[i].sel(mode=mode).plot(ax=a, **kwargs2)\n    a.scatter(\n        lonlats[i][0], lonlats[i][1], het_mask[i].sel(mode=mode).values * .5,\n        color='k', alpha=.5, transform=PlateCarree()\n    )\n\nfor i, a in enumerate(ax4):\n    scores[i].sel(mode=mode).plot(ax=a)\n    a.set_xlabel('')\n\n\nfor a in np.ravel([ax1, ax2, ax3]):\n    a.coastlines(color='.5')\n    a.add_feature(LAND)\n\nplt.tight_layout()\nplt.savefig('mca.jpg')"
      ]
    }
  ],
  "metadata": {
    "kernelspec": {
      "display_name": "Python 3",
      "language": "python",
      "name": "python3"
    },
    "language_info": {
      "codemirror_mode": {
        "name": "ipython",
        "version": 3
      },
      "file_extension": ".py",
      "mimetype": "text/x-python",
      "name": "python",
      "nbconvert_exporter": "python",
      "pygments_lexer": "ipython3",
      "version": "3.11.4"
    }
  },
  "nbformat": 4,
  "nbformat_minor": 0
}