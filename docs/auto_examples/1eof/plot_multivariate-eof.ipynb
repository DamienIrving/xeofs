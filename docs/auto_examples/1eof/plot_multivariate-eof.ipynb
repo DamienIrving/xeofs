{
  "cells": [
    {
      "cell_type": "markdown",
      "metadata": {},
      "source": [
        "\n# Multivariate EOF analysis\n\nMultivariate EOF analysis.\n"
      ]
    },
    {
      "cell_type": "code",
      "execution_count": null,
      "metadata": {
        "collapsed": false
      },
      "outputs": [],
      "source": [
        "# Load packages and data:\nimport xarray as xr\nimport matplotlib.pyplot as plt\nfrom matplotlib.gridspec import GridSpec\nfrom cartopy.crs import PlateCarree\n\nfrom xeofs.models import EOF\n\n# Create four different dataarrayss\nsst = xr.tutorial.open_dataset(\"ersstv5\")[\"sst\"]\nsubset1 = sst.isel(lon=slice(0, 45))\nsubset2 = sst.isel(lon=slice(46, 90))\nsubset3 = sst.isel(lon=slice(91, 135))\nsubset4 = sst.isel(lon=slice(136, None))\nmultivariate_data = [subset1, subset2, subset3, subset4]"
      ]
    },
    {
      "cell_type": "markdown",
      "metadata": {},
      "source": [
        "Perform the actual analysis\n\n"
      ]
    },
    {
      "cell_type": "code",
      "execution_count": null,
      "metadata": {
        "collapsed": false
      },
      "outputs": [],
      "source": [
        "pca = EOF(n_modes=10, standardize=False, use_coslat=True)\npca.fit(multivariate_data, dim=\"time\")\ncomponents = pca.components()\nscores = pca.scores()"
      ]
    },
    {
      "cell_type": "markdown",
      "metadata": {},
      "source": [
        "Plot mode 1\n\n"
      ]
    },
    {
      "cell_type": "code",
      "execution_count": null,
      "metadata": {
        "collapsed": false
      },
      "outputs": [],
      "source": [
        "mode = 5\nproj = PlateCarree()\nkwargs = {\n    \"cmap\": \"RdBu\",\n    \"vmin\": -0.05,\n    \"vmax\": 0.05,\n    \"transform\": proj,\n    \"add_colorbar\": False,\n}\n\nfig = plt.figure(figsize=(7.3, 6))\nfig.subplots_adjust(wspace=0)\ngs = GridSpec(2, 4, figure=fig, width_ratios=[1, 1, 1, 1])\nax = [fig.add_subplot(gs[0, i], projection=proj) for i in range(4)]\nax_pc = fig.add_subplot(gs[1, :])\n\n# PC\nscores.sel(mode=mode).plot(ax=ax_pc)\nax_pc.set_xlabel(\"\")\nax_pc.set_title(\"\")\n\n# EOFs\nfor i, (a, comps) in enumerate(zip(ax, components)):\n    a.coastlines(color=\".5\")\n    comps.sel(mode=mode).plot(ax=a, **kwargs)\n    a.set_xticks([])\n    a.set_yticks([])\n    a.set_xlabel(\"\")\n    a.set_ylabel(\"\")\n    a.set_title(\"Subset {:}\".format(i + 1))\nax[0].set_ylabel(\"EOFs\")\nfig.suptitle(\"Mode {:}\".format(mode))\nplt.savefig(\"multivariate-eof-analysis.jpg\")"
      ]
    }
  ],
  "metadata": {
    "kernelspec": {
      "display_name": "Python 3",
      "language": "python",
      "name": "python3"
    },
    "language_info": {
      "codemirror_mode": {
        "name": "ipython",
        "version": 3
      },
      "file_extension": ".py",
      "mimetype": "text/x-python",
      "name": "python",
      "nbconvert_exporter": "python",
      "pygments_lexer": "ipython3",
      "version": "3.11.4"
    }
  },
  "nbformat": 4,
  "nbformat_minor": 0
}