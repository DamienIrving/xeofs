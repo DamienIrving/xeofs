{
  "cells": [
    {
      "cell_type": "code",
      "execution_count": null,
      "metadata": {
        "collapsed": false
      },
      "outputs": [],
      "source": [
        "%matplotlib inline"
      ]
    },
    {
      "cell_type": "markdown",
      "metadata": {},
      "source": [
        "\n# Multivariate EOF analysis\n\nMultivariate EOF analysis.\n"
      ]
    },
    {
      "cell_type": "code",
      "execution_count": null,
      "metadata": {
        "collapsed": false
      },
      "outputs": [],
      "source": [
        "# Load packages and data:\nimport xarray as xr\nimport matplotlib.pyplot as plt\nfrom matplotlib.gridspec import GridSpec\nfrom cartopy.crs import PlateCarree\n\nfrom xeofs.xarray import EOF\n\n# Create four different dataarrayss\nsst = xr.tutorial.open_dataset('ersstv5')['sst']\nsubset1 = sst.isel(lon=slice(0, 45))\nsubset2 = sst.isel(lon=slice(46, 90))\nsubset3 = sst.isel(lon=slice(91, 135))\nsubset4 = sst.isel(lon=slice(136, None))"
      ]
    },
    {
      "cell_type": "markdown",
      "metadata": {},
      "source": [
        "Perform the actual analysis\n\n"
      ]
    },
    {
      "cell_type": "code",
      "execution_count": null,
      "metadata": {
        "collapsed": false
      },
      "outputs": [],
      "source": [
        "pca = EOF(\n    [subset1, subset2, subset3, subset4],\n    dim='time',\n    norm=False,\n    weights='coslat'\n)\npca.solve()\neofs = pca.eofs()\npcs = pca.pcs()"
      ]
    },
    {
      "cell_type": "markdown",
      "metadata": {},
      "source": [
        "Plot mode 1\n\n"
      ]
    },
    {
      "cell_type": "code",
      "execution_count": null,
      "metadata": {
        "collapsed": false
      },
      "outputs": [],
      "source": [
        "mode = 5\nproj = PlateCarree()\nkwargs = {\n    'cmap' : 'RdBu',\n    'vmin' : -.05,\n    'vmax': .05,\n    'transform': proj,\n    'add_colorbar': False\n}\n\nfig = plt.figure(figsize=(7.3, 6))\nfig.subplots_adjust(wspace=0)\ngs = GridSpec(2, 4, figure=fig, width_ratios=[1, 1, 1, 1])\nax = [fig.add_subplot(gs[0, i], projection=proj) for i in range(4)]\nax_pc = fig.add_subplot(gs[1, :])\n\n# PC\npcs.sel(mode=mode).plot(ax=ax_pc)\nax_pc.set_xlabel('')\nax_pc.set_title('')\n\n# EOFs\nfor i, (a, eof) in enumerate(zip(ax, eofs)):\n    a.coastlines(color='.5')\n    eof.sel(mode=mode).plot(ax=a, **kwargs)\n    a.set_xticks([])\n    a.set_yticks([])\n    a.set_xlabel('')\n    a.set_ylabel('')\n    a.set_title('Subset {:}'.format(i+1))\nax[0].set_ylabel('EOFs')\nfig.suptitle('Mode {:}'.format(mode))\nplt.savefig('multivariate-eof-analysis.jpg')"
      ]
    }
  ],
  "metadata": {
    "kernelspec": {
      "display_name": "Python 3",
      "language": "python",
      "name": "python3"
    },
    "language_info": {
      "codemirror_mode": {
        "name": "ipython",
        "version": 3
      },
      "file_extension": ".py",
      "mimetype": "text/x-python",
      "name": "python",
      "nbconvert_exporter": "python",
      "pygments_lexer": "ipython3",
      "version": "3.8.13"
    }
  },
  "nbformat": 4,
  "nbformat_minor": 0
}