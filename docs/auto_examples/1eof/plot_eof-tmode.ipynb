{
  "cells": [
    {
      "cell_type": "markdown",
      "metadata": {},
      "source": [
        "\n# EOF analysis (T-mode)\n\nEOF analysis in T-mode maximises the spatial variance.\n\nLoad packages and data:\n"
      ]
    },
    {
      "cell_type": "code",
      "execution_count": null,
      "metadata": {
        "collapsed": false
      },
      "outputs": [],
      "source": [
        "import xarray as xr\nimport matplotlib.pyplot as plt\nfrom matplotlib.gridspec import GridSpec\nfrom cartopy.crs import EqualEarth, PlateCarree\n\nfrom xeofs.models import EOF\n\nsst = xr.tutorial.open_dataset('ersstv5')['sst']"
      ]
    },
    {
      "cell_type": "markdown",
      "metadata": {},
      "source": [
        "Perform the actual analysis\n\n"
      ]
    },
    {
      "cell_type": "code",
      "execution_count": null,
      "metadata": {
        "collapsed": false
      },
      "outputs": [],
      "source": [
        "model = EOF(n_modes=5, standardize=False)\nmodel.fit(sst, dim=('lat', 'lon'))\nexpvar = model.explained_variance_ratio()\ncomponents = model.components()\nscores = model.scores()"
      ]
    },
    {
      "cell_type": "markdown",
      "metadata": {},
      "source": [
        "Create figure showing the first two modes\n\n"
      ]
    },
    {
      "cell_type": "code",
      "execution_count": null,
      "metadata": {
        "collapsed": false
      },
      "outputs": [],
      "source": [
        "proj = EqualEarth(central_longitude=180)\nkwargs = {\n    'cmap' : 'RdBu', 'transform': PlateCarree()\n}\n\nfig = plt.figure(figsize=(10, 8))\ngs = GridSpec(3, 2, width_ratios=[2, 1])\nax0 = [fig.add_subplot(gs[i, 0], projection=proj) for i in range(3)]\nax1 = [fig.add_subplot(gs[i, 1]) for i in range(3)]\n\nfor i, (a0, a1) in enumerate(zip(ax0, ax1)):\n    scores.sel(mode=i+1).plot(ax=a0, **kwargs)\n    a0.coastlines(color='.5')\n    components.sel(mode=i+1).plot(ax=a1)\n\n    a0.set_xlabel('')\n\nplt.tight_layout()\nplt.savefig('eof-tmode.jpg')"
      ]
    }
  ],
  "metadata": {
    "kernelspec": {
      "display_name": "Python 3",
      "language": "python",
      "name": "python3"
    },
    "language_info": {
      "codemirror_mode": {
        "name": "ipython",
        "version": 3
      },
      "file_extension": ".py",
      "mimetype": "text/x-python",
      "name": "python",
      "nbconvert_exporter": "python",
      "pygments_lexer": "ipython3",
      "version": "3.11.4"
    }
  },
  "nbformat": 4,
  "nbformat_minor": 0
}