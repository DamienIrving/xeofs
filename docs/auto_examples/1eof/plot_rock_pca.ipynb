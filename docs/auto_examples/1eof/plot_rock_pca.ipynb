{
  "cells": [
    {
      "cell_type": "code",
      "execution_count": null,
      "metadata": {
        "collapsed": false
      },
      "outputs": [],
      "source": [
        "%matplotlib inline"
      ]
    },
    {
      "cell_type": "markdown",
      "metadata": {},
      "source": [
        "\n# ROCK PCA\n\nRotated complex kernel PCA by Buseo et al. (2020)\n\nOriginal reference\n    Bueso, D., Piles, M. & Camps-Valls, G. Nonlinear PCA for Spatio-Temporal\n    Analysis of Earth Observation Data. IEEE Trans. Geosci. Remote Sensing 1\u201312\n    (2020) doi:10.1109/TGRS.2020.2969813.\n"
      ]
    },
    {
      "cell_type": "code",
      "execution_count": null,
      "metadata": {
        "collapsed": false
      },
      "outputs": [],
      "source": [
        "# Load packages and data:\nimport xarray as xr\nimport matplotlib.pyplot as plt\nfrom matplotlib.gridspec import GridSpec\nfrom cartopy.crs import EqualEarth, PlateCarree\n\nfrom xeofs.xarray import ROCK_PCA"
      ]
    },
    {
      "cell_type": "code",
      "execution_count": null,
      "metadata": {
        "collapsed": false
      },
      "outputs": [],
      "source": [
        "sst = xr.tutorial.open_dataset('ersstv5')['sst']"
      ]
    },
    {
      "cell_type": "markdown",
      "metadata": {},
      "source": [
        "Perform the actual analysis\n\n"
      ]
    },
    {
      "cell_type": "code",
      "execution_count": null,
      "metadata": {
        "collapsed": false
      },
      "outputs": [],
      "source": [
        "model = ROCK_PCA(\n    sst, weights='coslat', n_modes=20, n_rot=5,\n    sigma=1e4, power=2, norm=False, dim='time'\n)\nmodel.solve()\nexpvar = model.explained_variance_ratio()\namp = model.eofs_amplitude()\nphase = model.eofs_phase()\npcs = model.pcs().real"
      ]
    },
    {
      "cell_type": "markdown",
      "metadata": {},
      "source": [
        "Create figure showing the first two modes\n\n"
      ]
    },
    {
      "cell_type": "code",
      "execution_count": null,
      "metadata": {
        "collapsed": false
      },
      "outputs": [],
      "source": [
        "proj = EqualEarth(central_longitude=180)\nkwargs1 = {'cmap' : 'viridis', 'transform': PlateCarree()}\nkwargs2 = {'cmap' : 'twilight', 'transform': PlateCarree()}\n\nfig = plt.figure(figsize=(14, 8))\ngs = GridSpec(2, 2)\nax1 = fig.add_subplot(gs[0, 0], projection=proj)\nax2 = fig.add_subplot(gs[0, 1], projection=proj)\nax3 = fig.add_subplot(gs[1, :])\n\nax1.coastlines(color='.5')\nax2.coastlines(color='.5')\n\nexpvar.plot(ax=ax1, marker='.')\namp.sel(mode=1).plot(ax=ax1, **kwargs1)\nphase.sel(mode=1).plot(ax=ax2, **kwargs2)\npcs.sel(mode=1).plot(ax=ax3)\nplt.tight_layout()\nplt.savefig('rock-pca.jpg')"
      ]
    }
  ],
  "metadata": {
    "kernelspec": {
      "display_name": "Python 3",
      "language": "python",
      "name": "python3"
    },
    "language_info": {
      "codemirror_mode": {
        "name": "ipython",
        "version": 3
      },
      "file_extension": ".py",
      "mimetype": "text/x-python",
      "name": "python",
      "nbconvert_exporter": "python",
      "pygments_lexer": "ipython3",
      "version": "3.8.13"
    }
  },
  "nbformat": 4,
  "nbformat_minor": 0
}