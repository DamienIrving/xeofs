{
  "cells": [
    {
      "cell_type": "code",
      "execution_count": null,
      "metadata": {
        "collapsed": false
      },
      "outputs": [],
      "source": [
        "%matplotlib inline"
      ]
    },
    {
      "cell_type": "markdown",
      "metadata": {},
      "source": [
        "\n# Rotated EOF analysis\n\nEOF analysis is often used in climate science to interpret the obtained\neigenvectors (EOFs) as patterns of climatic variability. Given the mathematical\nnature of EOF analysis which leads to orthogonal EOFs, this interpretation\nis questionable for all but the first EOF. Rotated EOF anaylsis helps to\nalleviate the orthogonal constraint of the EOFs by applying an additional\nrotation to the (loaded) EOFs by means of a optimization criteria (Varimax,\nPromax). Varimax (orthogonal) and Promax (oblique) rotation have the additional\nside effect of creating \"sparse\" solutions, i.e. turning the otherwise dense\nEOFs into a more \"interpretable\" solutions by reducing the number of variables\ncontributing to an EOF. As such, rotation acts as a kind of regularization of\nthe EOF solution, with the ``power`` parameter defining its strength (the\nhigher, the more sparse the EOFs become). In case of small regularization, i.e.\n``power=1``, the Promax rotation reduces to a Varimax rotation.\n\nHere we compare the first three modes of EOF analysis (1) without\nregularization, (2) with Varimax rotation and (3) with Promax rotation.\n\nLoad packages and data:\n"
      ]
    },
    {
      "cell_type": "code",
      "execution_count": null,
      "metadata": {
        "collapsed": false
      },
      "outputs": [],
      "source": [
        "import xarray as xr\nimport matplotlib.pyplot as plt\nimport seaborn as sns\nfrom matplotlib.gridspec import GridSpec\nfrom cartopy.crs import Orthographic, PlateCarree\n\nfrom xeofs.xarray import EOF, Rotator\n\n\nsns.set_context('paper')\n\nt2m = xr.tutorial.load_dataset('air_temperature')['air']"
      ]
    },
    {
      "cell_type": "markdown",
      "metadata": {},
      "source": [
        "Perform the actual analysis\n\n"
      ]
    },
    {
      "cell_type": "code",
      "execution_count": null,
      "metadata": {
        "collapsed": false
      },
      "outputs": [],
      "source": [
        "eofs = []\npcs = []\n# (1) Standard EOF without regularization\nmodel = EOF(t2m, dim=['time'], weights='coslat')\nmodel.solve()\neofs.append(model.eofs())\npcs.append(model.pcs())\n# (2) Varimax-rotated EOF analysis\nmodel_var = EOF(t2m, dim=['time'], weights='coslat')\nmodel_var.solve()\nrot_var = Rotator(model, n_rot=50, power=1)\neofs.append(rot_var.eofs())\npcs.append(rot_var.pcs())\n# (3) Promax-rotated EOF analysis\nmodel_pro = EOF(t2m, dim=['time'], weights='coslat')\nmodel_pro.solve()\nrot_pro = Rotator(model, n_rot=50, power=2)\neofs.append(rot_pro.eofs())\npcs.append(rot_pro.pcs())"
      ]
    },
    {
      "cell_type": "markdown",
      "metadata": {},
      "source": [
        "Create figure showing the first 6 modes for all 3 cases. While the first mode\nis very similar in all three cases the subsequent modes of the standard\nsolution exhibit dipole and tripole-like patterns. Under Varimax and Promax\nrotation, these structures completely disappear suggesting that these patterns\nwere mere artifacts due to the orthogonality.\n\n"
      ]
    },
    {
      "cell_type": "code",
      "execution_count": null,
      "metadata": {
        "collapsed": false
      },
      "outputs": [],
      "source": [
        "proj = Orthographic(central_latitude=30, central_longitude=-80)\nkwargs = {\n    'cmap' : 'RdBu', 'transform': PlateCarree(), 'vmin': -.1, 'vmax': +.1,\n    'add_colorbar': False\n\n}\ntitles = [\n    '(1) Covariances', '(2) Covariances + coslat',\n    '(3) Correlation'\n]\nfig = plt.figure(figsize=(15, 5))\ngs = GridSpec(3, 6)\nax_std = [fig.add_subplot(gs[0, i], projection=proj) for i in range(6)]\nax_var = [fig.add_subplot(gs[1, i], projection=proj) for i in range(6)]\nax_pro = [fig.add_subplot(gs[2, i], projection=proj) for i in range(6)]\n\nfor i, (a0, a1, a2) in enumerate(zip(ax_std, ax_var, ax_pro)):\n    mode = i + 1\n    a0.coastlines(color='.5')\n    a1.coastlines(color='.5')\n    a2.coastlines(color='.5')\n    eofs[0].sel(mode=mode).plot(ax=a0, **kwargs)\n    eofs[1].sel(mode=mode).plot(ax=a1, **kwargs)\n    eofs[2].sel(mode=mode).plot(ax=a2, **kwargs)\n\ntitle_kwargs = dict(rotation=90, va='center', weight='bold')\nax_std[0].text(-.1, .5, 'Standard', transform=ax_std[0].transAxes, **title_kwargs)\nax_var[0].text(-.1, .5, 'Varimax', transform=ax_var[0].transAxes, **title_kwargs)\nax_pro[0].text(-.1, .5, 'Promax', transform=ax_pro[0].transAxes, **title_kwargs)\n\nplt.tight_layout()\nplt.savefig('rotated_eof.jpg', dpi=200)"
      ]
    }
  ],
  "metadata": {
    "kernelspec": {
      "display_name": "Python 3",
      "language": "python",
      "name": "python3"
    },
    "language_info": {
      "codemirror_mode": {
        "name": "ipython",
        "version": 3
      },
      "file_extension": ".py",
      "mimetype": "text/x-python",
      "name": "python",
      "nbconvert_exporter": "python",
      "pygments_lexer": "ipython3",
      "version": "3.8.13"
    }
  },
  "nbformat": 4,
  "nbformat_minor": 0
}