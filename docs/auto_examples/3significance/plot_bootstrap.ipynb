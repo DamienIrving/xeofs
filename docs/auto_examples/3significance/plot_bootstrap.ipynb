{
  "cells": [
    {
      "cell_type": "code",
      "execution_count": null,
      "metadata": {
        "collapsed": false
      },
      "outputs": [],
      "source": [
        "%matplotlib inline"
      ]
    },
    {
      "cell_type": "markdown",
      "metadata": {},
      "source": [
        "\n# Significance via bootstrap\n\nTesting the significance of individual modes and obtain confidence intervals\nfor both EOFs and PCs.\n"
      ]
    },
    {
      "cell_type": "code",
      "execution_count": null,
      "metadata": {
        "collapsed": false
      },
      "outputs": [],
      "source": [
        "# Load packages and data:\nimport xarray as xr\nimport matplotlib.pyplot as plt\nfrom matplotlib.gridspec import GridSpec\nfrom cartopy.crs import Orthographic, PlateCarree\n\nfrom xeofs.xarray import EOF, Bootstrapper"
      ]
    },
    {
      "cell_type": "code",
      "execution_count": null,
      "metadata": {
        "collapsed": false
      },
      "outputs": [],
      "source": [
        "t2m = xr.tutorial.load_dataset('air_temperature')['air']"
      ]
    },
    {
      "cell_type": "markdown",
      "metadata": {},
      "source": [
        "Perform EOF analysis\n\n"
      ]
    },
    {
      "cell_type": "code",
      "execution_count": null,
      "metadata": {
        "collapsed": false
      },
      "outputs": [],
      "source": [
        "model = EOF(t2m, n_modes=25, norm=False, dim='time')\nmodel.solve()\nexpvar = model.explained_variance_ratio()\neofs = model.eofs()\npcs = model.pcs()"
      ]
    },
    {
      "cell_type": "markdown",
      "metadata": {},
      "source": [
        "Perform bootstrapping of the model to identy the number of significant modes.\nWe choose an significance level of alpha=0.05 and perform 20 bootstraps.\nNote - if computationallly feasible - you typically want to you higher\nnumbers of bootstraps e.g. 100 or 1000.\n\n"
      ]
    },
    {
      "cell_type": "code",
      "execution_count": null,
      "metadata": {
        "collapsed": false
      },
      "outputs": [],
      "source": [
        "alpha = .05\nn_boot = 20\n\nbs = Bootstrapper(n_boot=n_boot, alpha=alpha)\nbs.bootstrap(model)\nn_significant_modes = bs.n_significant_modes()\nprint('{:} modes are significant at alpha={:.2}'.format(n_significant_modes, alpha))"
      ]
    },
    {
      "cell_type": "markdown",
      "metadata": {},
      "source": [
        "Create figure showing the first two modes\n\n"
      ]
    },
    {
      "cell_type": "code",
      "execution_count": null,
      "metadata": {
        "collapsed": false
      },
      "outputs": [],
      "source": [
        "# proj = Orthographic(central_latitude=30, central_longitude=-80)\n# kwargs = {\n#     'cmap' : 'RdBu', 'vmin' : -.05, 'vmax': .05, 'transform': PlateCarree()\n# }\n#\n# fig = plt.figure(figsize=(10, 10))\n# gs = GridSpec(3, 4)\n# ax1 = fig.add_subplot(gs[0, :])\n# ax2 = fig.add_subplot(gs[1, 2:], projection=proj)\n# ax3 = fig.add_subplot(gs[1, :2])\n# ax4 = fig.add_subplot(gs[2, 2:], projection=proj)\n# ax5 = fig.add_subplot(gs[2, :2])\n#\n# ax2.coastlines(color='.5')\n# ax4.coastlines(color='.5')\n#\n# expvar.plot(ax=ax1, marker='.')\n# eofs.sel(mode=1).plot(ax=ax2, **kwargs)\n# pcs.sel(mode=1).plot(ax=ax3)\n# eofs.sel(mode=2).plot(ax=ax4, **kwargs)\n# pcs.sel(mode=2).plot(ax=ax5)\n# plt.tight_layout()\n# plt.savefig('eof-smode.jpg')"
      ]
    }
  ],
  "metadata": {
    "kernelspec": {
      "display_name": "Python 3",
      "language": "python",
      "name": "python3"
    },
    "language_info": {
      "codemirror_mode": {
        "name": "ipython",
        "version": 3
      },
      "file_extension": ".py",
      "mimetype": "text/x-python",
      "name": "python",
      "nbconvert_exporter": "python",
      "pygments_lexer": "ipython3",
      "version": "3.8.13"
    }
  },
  "nbformat": 4,
  "nbformat_minor": 0
}